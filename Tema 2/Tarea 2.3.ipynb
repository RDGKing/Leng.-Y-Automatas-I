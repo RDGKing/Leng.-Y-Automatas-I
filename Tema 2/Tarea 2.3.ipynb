{
 "cells": [
  {
   "cell_type": "code",
   "execution_count": 11,
   "metadata": {},
   "outputs": [],
   "source": [
    "import re"
   ]
  },
  {
   "cell_type": "markdown",
   "metadata": {},
   "source": [
    "Expresión regular que valide un Password fuerte\n",
    "1 minúscula\n",
    "1 mayúscula\n",
    "1 numero\n",
    "1 carácter especial\n",
    "8 caracteres de longitud"
   ]
  },
  {
   "cell_type": "code",
   "execution_count": 16,
   "metadata": {},
   "outputs": [
    {
     "name": "stdout",
     "output_type": "stream",
     "text": [
      "La contraseña \"Pl1@Noe¡\" es válida.\n",
      "La contraseña \"123456ab\" no es válida.\n"
     ]
    }
   ],
   "source": [
    "def validar_password(password):\n",
    "    # Expresión regular para validar el password\n",
    "    patron = r'^(?=.*[a-z])(?=.*[A-Z])(?=.*\\d)(?=.*[@$!%*?&])[A-Za-z\\d#$%&!¡¿?@]{8}$'\n",
    "    \n",
    "    # Validar el password\n",
    "    if re.match(patron, password):\n",
    "        print(f'La contraseña \"{password}\" es válida.')\n",
    "    else:\n",
    "        print(f'La contraseña \"{password}\" no es válida.')\n",
    "\n",
    "# Pruebas\n",
    "validar_password(\"Pl1@Noe¡\")\n",
    "validar_password(\"123456ab\") \n",
    "\n"
   ]
  },
  {
   "cell_type": "markdown",
   "metadata": {},
   "source": [
    "Expresión Regular que valide un Nombre de usuario\n",
    "Longitud de 3 a 16 caracteres\n",
    "Letra o numero o guion medio o bajo"
   ]
  },
  {
   "cell_type": "code",
   "execution_count": 21,
   "metadata": {},
   "outputs": [
    {
     "name": "stdout",
     "output_type": "stream",
     "text": [
      "El nombre de usuario \"Huam-pa_782\" es válido.\n"
     ]
    }
   ],
   "source": [
    "def validar_username(username):\n",
    "    # Expresión regular para validar el nombre de usuario\n",
    "    patron = r'^[\\w-]{3,16}$'\n",
    "    \n",
    "    # Validar el nombre de usuario\n",
    "    if re.match(patron, username):\n",
    "        print(f'El nombre de usuario \"{username}\" es válido.')\n",
    "    else:\n",
    "        print(f'El nombre de usuario \"{username}\" no es válido.')\n",
    "\n",
    "# Pruebas\n",
    "validar_nombre_usuario(\"Huam-pa_782\")\n"
   ]
  }
 ],
 "metadata": {
  "kernelspec": {
   "display_name": "working",
   "language": "python",
   "name": "python3"
  },
  "language_info": {
   "codemirror_mode": {
    "name": "ipython",
    "version": 3
   },
   "file_extension": ".py",
   "mimetype": "text/x-python",
   "name": "python",
   "nbconvert_exporter": "python",
   "pygments_lexer": "ipython3",
   "version": "3.10.14"
  }
 },
 "nbformat": 4,
 "nbformat_minor": 2
}
